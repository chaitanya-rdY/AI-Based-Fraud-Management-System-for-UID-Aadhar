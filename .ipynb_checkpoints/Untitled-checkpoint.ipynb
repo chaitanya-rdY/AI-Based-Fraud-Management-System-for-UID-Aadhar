{
 "cells": [
  {
   "cell_type": "code",
   "execution_count": 1,
   "id": "96e98a88-c017-4d89-af0e-217d7fb084a1",
   "metadata": {},
   "outputs": [],
   "source": [
    "from ultralytics import YOLO"
   ]
  },
  {
   "cell_type": "code",
   "execution_count": null,
   "id": "66c204c4-9d50-4108-96c5-a01b41457176",
   "metadata": {},
   "outputs": [],
   "source": [
    "model = YOLO(\"yolo11n.pt\")"
   ]
  }
 ],
 "metadata": {
  "kernelspec": {
   "display_name": "Python 3 (ipykernel)",
   "language": "python",
   "name": "python3"
  },
  "language_info": {
   "codemirror_mode": {
    "name": "ipython",
    "version": 3
   },
   "file_extension": ".py",
   "mimetype": "text/x-python",
   "name": "python",
   "nbconvert_exporter": "python",
   "pygments_lexer": "ipython3",
   "version": "3.11.6"
  }
 },
 "nbformat": 4,
 "nbformat_minor": 5
}
